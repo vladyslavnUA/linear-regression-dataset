{
 "cells": [
  {
   "cell_type": "code",
   "execution_count": null,
   "id": "92b5e330-0f3d-4835-9331-bf7ccd245c2a",
   "metadata": {},
   "outputs": [],
   "source": [
    "import numpy as np\n",
    "import matplotlib.pyplot as plt \n",
    "\n",
    "import pandas as pd  \n",
    "import seaborn as sns \n",
    "from sklearn.datasets import load_boston\n",
    "boston_dataset = load_boston()\n",
    "\n",
    "dict_keys(['data', 'target', 'feature_names', 'DESCR'])"
   ]
  },
  {
   "cell_type": "code",
   "execution_count": null,
   "id": "ea6d4b67-3f17-4c53-a50c-74b57fb21e5a",
   "metadata": {},
   "outputs": [],
   "source": [
    "boston = pd.DataFrame(boston_dataset.data, columns=boston_dataset.feature_names)\n",
    "print(boston.head())"
   ]
  },
  {
   "cell_type": "code",
   "execution_count": null,
   "id": "f53da549-82b5-4311-b23c-d2840d2299b0",
   "metadata": {},
   "outputs": [],
   "source": []
  }
 ],
 "metadata": {
  "kernelspec": {
   "display_name": "Python 3 (ipykernel)",
   "language": "python",
   "name": "python3"
  },
  "language_info": {
   "codemirror_mode": {
    "name": "ipython",
    "version": 3
   },
   "file_extension": ".py",
   "mimetype": "text/x-python",
   "name": "python",
   "nbconvert_exporter": "python",
   "pygments_lexer": "ipython3",
   "version": "3.9.1"
  }
 },
 "nbformat": 4,
 "nbformat_minor": 5
}
